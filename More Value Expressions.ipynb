{
 "cells": [
  {
   "cell_type": "code",
   "execution_count": 2,
   "id": "e8264a86",
   "metadata": {},
   "outputs": [],
   "source": [
    "import os\n",
    "import tempfile\n",
    "import ibis\n",
    "\n",
    "ibis.options.interactive = True\n",
    "\n",
    "connection = ibis.sqlite.connect('data/geography.db')"
   ]
  },
  {
   "cell_type": "code",
   "execution_count": 4,
   "id": "1a77e9dc",
   "metadata": {},
   "outputs": [
    {
     "data": {
      "text/plain": [
       "ibis.Schema {\n",
       "  iso_alpha2   string\n",
       "  iso_alpha3   string\n",
       "  iso_numeric  int32\n",
       "  fips         string\n",
       "  name         string\n",
       "  capital      string\n",
       "  area_km2     float64\n",
       "  population   int32\n",
       "  continent    string\n",
       "}"
      ]
     },
     "execution_count": 4,
     "metadata": {},
     "output_type": "execute_result"
    }
   ],
   "source": [
    "countries = connection.table('countries')\n",
    "countries.schema()"
   ]
  },
  {
   "cell_type": "markdown",
   "id": "dbf8bff0",
   "metadata": {},
   "source": [
    "Type names can be used to cast from one type to another."
   ]
  },
  {
   "cell_type": "code",
   "execution_count": 6,
   "id": "caf85939",
   "metadata": {},
   "outputs": [
    {
     "name": "stdout",
     "output_type": "stream",
     "text": [
      "<class 'ibis.expr.types.numeric.FloatingScalar'>\n",
      "6878963738.0\n"
     ]
    }
   ],
   "source": [
    "countries = connection.table('countries')\n",
    "fl = countries.population.cast('float').sum()\n",
    "print(type(fl))\n",
    "print(fl)"
   ]
  },
  {
   "cell_type": "code",
   "execution_count": 7,
   "id": "2bb4d045",
   "metadata": {},
   "outputs": [
    {
     "data": {
      "text/plain": [
       "150012536"
      ]
     },
     "execution_count": 7,
     "metadata": {},
     "output_type": "execute_result"
    }
   ],
   "source": [
    "countries.area_km2.cast('int32').sum()"
   ]
  },
  {
   "cell_type": "code",
   "execution_count": 15,
   "id": "9e97f2f9",
   "metadata": {},
   "outputs": [
    {
     "name": "stdout",
     "output_type": "stream",
     "text": [
      "150012536 -> <class 'ibis.expr.types.numeric.IntegerScalar'>\n",
      "'150012536.0' -> <class 'ibis.expr.types.strings.StringScalar'>\n"
     ]
    }
   ],
   "source": [
    "area_int = countries.area_km2.cast('int32').sum()\n",
    "print(f'{area_int} -> {type(area_int)}')\n",
    "print(f\"{area_int.cast('float').cast('string')} -> {type(area_int.cast('float').cast('string'))}\")"
   ]
  },
  {
   "cell_type": "markdown",
   "id": "22d15be3",
   "metadata": {},
   "source": [
    "## Case / if-then-else expressions"
   ]
  },
  {
   "cell_type": "code",
   "execution_count": 16,
   "id": "a54f0ac6",
   "metadata": {},
   "outputs": [
    {
     "data": {
      "text/html": [
       "<div>\n",
       "<style scoped>\n",
       "    .dataframe tbody tr th:only-of-type {\n",
       "        vertical-align: middle;\n",
       "    }\n",
       "\n",
       "    .dataframe tbody tr th {\n",
       "        vertical-align: top;\n",
       "    }\n",
       "\n",
       "    .dataframe thead th {\n",
       "        text-align: right;\n",
       "    }\n",
       "</style>\n",
       "<table border=\"1\" class=\"dataframe\">\n",
       "  <thead>\n",
       "    <tr style=\"text-align: right;\">\n",
       "      <th></th>\n",
       "      <th>continent_name</th>\n",
       "      <th>count</th>\n",
       "    </tr>\n",
       "  </thead>\n",
       "  <tbody>\n",
       "    <tr>\n",
       "      <th>0</th>\n",
       "      <td>Africa</td>\n",
       "      <td>58</td>\n",
       "    </tr>\n",
       "    <tr>\n",
       "      <th>1</th>\n",
       "      <td>Antarctica</td>\n",
       "      <td>5</td>\n",
       "    </tr>\n",
       "    <tr>\n",
       "      <th>2</th>\n",
       "      <td>Asia</td>\n",
       "      <td>51</td>\n",
       "    </tr>\n",
       "    <tr>\n",
       "      <th>3</th>\n",
       "      <td>Europe</td>\n",
       "      <td>54</td>\n",
       "    </tr>\n",
       "    <tr>\n",
       "      <th>4</th>\n",
       "      <td>North America</td>\n",
       "      <td>42</td>\n",
       "    </tr>\n",
       "    <tr>\n",
       "      <th>5</th>\n",
       "      <td>Oceania</td>\n",
       "      <td>28</td>\n",
       "    </tr>\n",
       "    <tr>\n",
       "      <th>6</th>\n",
       "      <td>South America</td>\n",
       "      <td>14</td>\n",
       "    </tr>\n",
       "  </tbody>\n",
       "</table>\n",
       "</div>"
      ],
      "text/plain": [
       "  continent_name  count\n",
       "0         Africa     58\n",
       "1     Antarctica      5\n",
       "2           Asia     51\n",
       "3         Europe     54\n",
       "4  North America     42\n",
       "5        Oceania     28\n",
       "6  South America     14"
      ]
     },
     "execution_count": 16,
     "metadata": {},
     "output_type": "execute_result"
    }
   ],
   "source": [
    "expr = (countries.continent\n",
    "        .case()\n",
    "        .when('AF', 'Africa')\n",
    "        .when('AN', 'Antarctica')\n",
    "        .when('AS', 'Asia')\n",
    "        .when('EU', 'Europe')\n",
    "        .when('NA', 'North America')\n",
    "        .when('OC', 'Oceania')\n",
    "        .when('SA', 'South America')\n",
    "        .else_(countries.continent)\n",
    "        .end()\n",
    "        .name('continent_name'))\n",
    "\n",
    "expr.value_counts()"
   ]
  },
  {
   "cell_type": "markdown",
   "id": "2db4ac2a",
   "metadata": {},
   "source": [
    "To test for an arbitrary series of boolean conditions, use the case API method and pass any boolean expressions potentially involving columns of the table:"
   ]
  },
  {
   "cell_type": "code",
   "execution_count": 17,
   "id": "b87edbbe",
   "metadata": {},
   "outputs": [
    {
     "data": {
      "text/html": [
       "<div>\n",
       "<style scoped>\n",
       "    .dataframe tbody tr th:only-of-type {\n",
       "        vertical-align: middle;\n",
       "    }\n",
       "\n",
       "    .dataframe tbody tr th {\n",
       "        vertical-align: top;\n",
       "    }\n",
       "\n",
       "    .dataframe thead th {\n",
       "        text-align: right;\n",
       "    }\n",
       "</style>\n",
       "<table border=\"1\" class=\"dataframe\">\n",
       "  <thead>\n",
       "    <tr style=\"text-align: right;\">\n",
       "      <th></th>\n",
       "      <th>name</th>\n",
       "      <th>population</th>\n",
       "      <th>size</th>\n",
       "    </tr>\n",
       "  </thead>\n",
       "  <tbody>\n",
       "    <tr>\n",
       "      <th>0</th>\n",
       "      <td>Andorra</td>\n",
       "      <td>84000</td>\n",
       "      <td>small</td>\n",
       "    </tr>\n",
       "    <tr>\n",
       "      <th>1</th>\n",
       "      <td>United Arab Emirates</td>\n",
       "      <td>4975593</td>\n",
       "      <td>small</td>\n",
       "    </tr>\n",
       "    <tr>\n",
       "      <th>2</th>\n",
       "      <td>Afghanistan</td>\n",
       "      <td>29121286</td>\n",
       "      <td>big</td>\n",
       "    </tr>\n",
       "    <tr>\n",
       "      <th>3</th>\n",
       "      <td>Antigua and Barbuda</td>\n",
       "      <td>86754</td>\n",
       "      <td>small</td>\n",
       "    </tr>\n",
       "    <tr>\n",
       "      <th>4</th>\n",
       "      <td>Anguilla</td>\n",
       "      <td>13254</td>\n",
       "      <td>small</td>\n",
       "    </tr>\n",
       "    <tr>\n",
       "      <th>5</th>\n",
       "      <td>Albania</td>\n",
       "      <td>2986952</td>\n",
       "      <td>small</td>\n",
       "    </tr>\n",
       "    <tr>\n",
       "      <th>6</th>\n",
       "      <td>Armenia</td>\n",
       "      <td>2968000</td>\n",
       "      <td>small</td>\n",
       "    </tr>\n",
       "    <tr>\n",
       "      <th>7</th>\n",
       "      <td>Netherlands Antilles</td>\n",
       "      <td>300000</td>\n",
       "      <td>small</td>\n",
       "    </tr>\n",
       "    <tr>\n",
       "      <th>8</th>\n",
       "      <td>Angola</td>\n",
       "      <td>13068161</td>\n",
       "      <td>medium</td>\n",
       "    </tr>\n",
       "    <tr>\n",
       "      <th>9</th>\n",
       "      <td>Antarctica</td>\n",
       "      <td>0</td>\n",
       "      <td>small</td>\n",
       "    </tr>\n",
       "  </tbody>\n",
       "</table>\n",
       "</div>"
      ],
      "text/plain": [
       "                   name  population    size\n",
       "0               Andorra       84000   small\n",
       "1  United Arab Emirates     4975593   small\n",
       "2           Afghanistan    29121286     big\n",
       "3   Antigua and Barbuda       86754   small\n",
       "4              Anguilla       13254   small\n",
       "5               Albania     2986952   small\n",
       "6               Armenia     2968000   small\n",
       "7  Netherlands Antilles      300000   small\n",
       "8                Angola    13068161  medium\n",
       "9            Antarctica           0   small"
      ]
     },
     "execution_count": 17,
     "metadata": {},
     "output_type": "execute_result"
    }
   ],
   "source": [
    "expr = (ibis.case()\n",
    "        .when(countries.population > 25_000_000, 'big')\n",
    "        .when(countries.population < 5_000_000, 'small')\n",
    "        .else_('medium')\n",
    "        .end()\n",
    "        .name('size'))\n",
    "\n",
    "countries['name', 'population', expr].limit(10)"
   ]
  },
  {
   "cell_type": "markdown",
   "id": "792c223b",
   "metadata": {},
   "source": [
    "Simple ternary-cases (like the Python X `if` COND `else` Y) can be written using the `ifelse` function:"
   ]
  },
  {
   "cell_type": "code",
   "execution_count": 18,
   "id": "71e04ca4",
   "metadata": {},
   "outputs": [
    {
     "data": {
      "text/html": [
       "<div>\n",
       "<style scoped>\n",
       "    .dataframe tbody tr th:only-of-type {\n",
       "        vertical-align: middle;\n",
       "    }\n",
       "\n",
       "    .dataframe tbody tr th {\n",
       "        vertical-align: top;\n",
       "    }\n",
       "\n",
       "    .dataframe thead th {\n",
       "        text-align: right;\n",
       "    }\n",
       "</style>\n",
       "<table border=\"1\" class=\"dataframe\">\n",
       "  <thead>\n",
       "    <tr style=\"text-align: right;\">\n",
       "      <th></th>\n",
       "      <th>name</th>\n",
       "      <th>continent</th>\n",
       "      <th>is_asia</th>\n",
       "    </tr>\n",
       "  </thead>\n",
       "  <tbody>\n",
       "    <tr>\n",
       "      <th>0</th>\n",
       "      <td>Andorra</td>\n",
       "      <td>EU</td>\n",
       "      <td>Not Asia</td>\n",
       "    </tr>\n",
       "    <tr>\n",
       "      <th>1</th>\n",
       "      <td>United Arab Emirates</td>\n",
       "      <td>AS</td>\n",
       "      <td>Asia</td>\n",
       "    </tr>\n",
       "    <tr>\n",
       "      <th>2</th>\n",
       "      <td>Afghanistan</td>\n",
       "      <td>AS</td>\n",
       "      <td>Asia</td>\n",
       "    </tr>\n",
       "    <tr>\n",
       "      <th>3</th>\n",
       "      <td>Antigua and Barbuda</td>\n",
       "      <td>NA</td>\n",
       "      <td>Not Asia</td>\n",
       "    </tr>\n",
       "    <tr>\n",
       "      <th>4</th>\n",
       "      <td>Anguilla</td>\n",
       "      <td>NA</td>\n",
       "      <td>Not Asia</td>\n",
       "    </tr>\n",
       "    <tr>\n",
       "      <th>5</th>\n",
       "      <td>Albania</td>\n",
       "      <td>EU</td>\n",
       "      <td>Not Asia</td>\n",
       "    </tr>\n",
       "    <tr>\n",
       "      <th>6</th>\n",
       "      <td>Armenia</td>\n",
       "      <td>AS</td>\n",
       "      <td>Asia</td>\n",
       "    </tr>\n",
       "    <tr>\n",
       "      <th>7</th>\n",
       "      <td>Netherlands Antilles</td>\n",
       "      <td>NA</td>\n",
       "      <td>Not Asia</td>\n",
       "    </tr>\n",
       "    <tr>\n",
       "      <th>8</th>\n",
       "      <td>Angola</td>\n",
       "      <td>AF</td>\n",
       "      <td>Not Asia</td>\n",
       "    </tr>\n",
       "    <tr>\n",
       "      <th>9</th>\n",
       "      <td>Antarctica</td>\n",
       "      <td>AN</td>\n",
       "      <td>Not Asia</td>\n",
       "    </tr>\n",
       "  </tbody>\n",
       "</table>\n",
       "</div>"
      ],
      "text/plain": [
       "                   name continent   is_asia\n",
       "0               Andorra        EU  Not Asia\n",
       "1  United Arab Emirates        AS      Asia\n",
       "2           Afghanistan        AS      Asia\n",
       "3   Antigua and Barbuda        NA  Not Asia\n",
       "4              Anguilla        NA  Not Asia\n",
       "5               Albania        EU  Not Asia\n",
       "6               Armenia        AS      Asia\n",
       "7  Netherlands Antilles        NA  Not Asia\n",
       "8                Angola        AF  Not Asia\n",
       "9            Antarctica        AN  Not Asia"
      ]
     },
     "execution_count": 18,
     "metadata": {},
     "output_type": "execute_result"
    }
   ],
   "source": [
    "expr = ((countries.continent == 'AS')\n",
    "        .ifelse('Asia', 'Not Asia')\n",
    "        .name('is_asia'))\n",
    "\n",
    "countries['name', 'continent', expr].limit(10)"
   ]
  },
  {
   "cell_type": "markdown",
   "id": "632fd385",
   "metadata": {},
   "source": [
    "## Set membership\n",
    "The `isin` and `notin` functions are like their pandas counterparts. These can take:\n",
    "\n",
    "- A list of value expressions, either literal values or other column expressions\n",
    "- An array/column expression of some kind"
   ]
  },
  {
   "cell_type": "code",
   "execution_count": 19,
   "id": "82e65a6d",
   "metadata": {},
   "outputs": [
    {
     "data": {
      "text/html": [
       "<div>\n",
       "<style scoped>\n",
       "    .dataframe tbody tr th:only-of-type {\n",
       "        vertical-align: middle;\n",
       "    }\n",
       "\n",
       "    .dataframe tbody tr th {\n",
       "        vertical-align: top;\n",
       "    }\n",
       "\n",
       "    .dataframe thead th {\n",
       "        text-align: right;\n",
       "    }\n",
       "</style>\n",
       "<table border=\"1\" class=\"dataframe\">\n",
       "  <thead>\n",
       "    <tr style=\"text-align: right;\">\n",
       "      <th></th>\n",
       "      <th>continent</th>\n",
       "      <th>count</th>\n",
       "    </tr>\n",
       "  </thead>\n",
       "  <tbody>\n",
       "    <tr>\n",
       "      <th>0</th>\n",
       "      <td>NA</td>\n",
       "      <td>42</td>\n",
       "    </tr>\n",
       "    <tr>\n",
       "      <th>1</th>\n",
       "      <td>SA</td>\n",
       "      <td>14</td>\n",
       "    </tr>\n",
       "  </tbody>\n",
       "</table>\n",
       "</div>"
      ],
      "text/plain": [
       "  continent  count\n",
       "0        NA     42\n",
       "1        SA     14"
      ]
     },
     "execution_count": 19,
     "metadata": {},
     "output_type": "execute_result"
    }
   ],
   "source": [
    "is_america = countries.continent.isin(['NA', 'SA'])\n",
    "countries[is_america].continent.value_counts()"
   ]
  },
  {
   "cell_type": "code",
   "execution_count": 29,
   "id": "9fcfeeba",
   "metadata": {},
   "outputs": [
    {
     "data": {
      "text/html": [
       "<div>\n",
       "<style scoped>\n",
       "    .dataframe tbody tr th:only-of-type {\n",
       "        vertical-align: middle;\n",
       "    }\n",
       "\n",
       "    .dataframe tbody tr th {\n",
       "        vertical-align: top;\n",
       "    }\n",
       "\n",
       "    .dataframe thead th {\n",
       "        text-align: right;\n",
       "    }\n",
       "</style>\n",
       "<table border=\"1\" class=\"dataframe\">\n",
       "  <thead>\n",
       "    <tr style=\"text-align: right;\">\n",
       "      <th></th>\n",
       "      <th>name</th>\n",
       "    </tr>\n",
       "  </thead>\n",
       "  <tbody>\n",
       "  </tbody>\n",
       "</table>\n",
       "</div>"
      ],
      "text/plain": [
       "Series([], Name: name, dtype: object)"
      ]
     },
     "execution_count": 29,
     "metadata": {},
     "output_type": "execute_result"
    }
   ],
   "source": [
    "is_sa = countries.name.isin(['SA'])\n",
    "countries[is_sa]"
   ]
  },
  {
   "cell_type": "code",
   "execution_count": null,
   "id": "2c036780",
   "metadata": {},
   "outputs": [],
   "source": []
  }
 ],
 "metadata": {
  "kernelspec": {
   "display_name": "Python 3 (ipykernel)",
   "language": "python",
   "name": "python3"
  },
  "language_info": {
   "codemirror_mode": {
    "name": "ipython",
    "version": 3
   },
   "file_extension": ".py",
   "mimetype": "text/x-python",
   "name": "python",
   "nbconvert_exporter": "python",
   "pygments_lexer": "ipython3",
   "version": "3.10.5"
  }
 },
 "nbformat": 4,
 "nbformat_minor": 5
}
