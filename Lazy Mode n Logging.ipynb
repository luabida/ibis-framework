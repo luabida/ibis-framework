{
 "cells": [
  {
   "cell_type": "markdown",
   "id": "209cb968",
   "metadata": {},
   "source": [
    "So far, we have seen Ibis in interactive mode. Interactive mode (also known as eager mode) makes Ibis return the results of an operation immediately.\n",
    "\n",
    "In most cases, instead of using interactive mode, it makes more sense to use the default lazy mode. In lazy mode, Ibis won't be executing the operations automatically, but instead, will generate an expression to be executed at a later time.\n",
    "\n",
    "Let's see this in practice, starting with the same example as in previous tutorials - the geography database."
   ]
  },
  {
   "cell_type": "code",
   "execution_count": 2,
   "id": "5ffb47e3",
   "metadata": {},
   "outputs": [],
   "source": [
    "import os\n",
    "import tempfile\n",
    "import ibis\n",
    "\n",
    "\n",
    "connection = ibis.sqlite.connect(os.path.join('data/geography.db'))\n",
    "countries = connection.table('countries')"
   ]
  },
  {
   "cell_type": "code",
   "execution_count": 5,
   "id": "dc7d6b4e",
   "metadata": {},
   "outputs": [
    {
     "data": {
      "text/plain": [
       "r0 := AlchemyTable: countries\n",
       "  iso_alpha2  string\n",
       "  iso_alpha3  string\n",
       "  iso_numeric int32\n",
       "  fips        string\n",
       "  name        string\n",
       "  capital     string\n",
       "  area_km2    float64\n",
       "  population  int32\n",
       "  continent   string\n",
       "\n",
       "r1 := Selection[r0]\n",
       "  selections:\n",
       "    name:       r0.name\n",
       "    continent:  r0.continent\n",
       "    population: r0.population\n",
       "\n",
       "Limit[r1, n=3]"
      ]
     },
     "execution_count": 5,
     "metadata": {},
     "output_type": "execute_result"
    }
   ],
   "source": [
    "ibis.options.interactive = False\n",
    "\n",
    "countries['name', 'continent', 'population'].limit(3)"
   ]
  },
  {
   "cell_type": "markdown",
   "id": "15cbc2d0",
   "metadata": {},
   "source": [
    "In lazy mode, instead of obtaining the results after each operation, we build an expression (a graph) of all the operations that need to be done. After all the operations are recorded, the graph is sent to the backend which will perform the operation in an efficient way - only moving to memory the required data."
   ]
  },
  {
   "cell_type": "code",
   "execution_count": 6,
   "id": "6fb4a8cf",
   "metadata": {},
   "outputs": [
    {
     "data": {
      "text/plain": [
       "ibis.expr.types.relations.TableExpr"
      ]
     },
     "execution_count": 6,
     "metadata": {},
     "output_type": "execute_result"
    }
   ],
   "source": [
    "countries_expression = countries['name', 'continent', 'population'].limit(3)\n",
    "type(countries_expression)"
   ]
  },
  {
   "cell_type": "markdown",
   "id": "f5174e3d",
   "metadata": {},
   "source": [
    "The type is an Ibis TableExpr, since the result is a table (in a broad way, you can consider it a dataframe)."
   ]
  },
  {
   "cell_type": "markdown",
   "id": "791eb03a",
   "metadata": {},
   "source": [
    "We can continue building our expression if we haven't finished yet. Or once we are done, we can simply request it from the database using the method .execute()."
   ]
  },
  {
   "cell_type": "code",
   "execution_count": 7,
   "id": "dbd2aa2c",
   "metadata": {},
   "outputs": [
    {
     "data": {
      "text/html": [
       "<div>\n",
       "<style scoped>\n",
       "    .dataframe tbody tr th:only-of-type {\n",
       "        vertical-align: middle;\n",
       "    }\n",
       "\n",
       "    .dataframe tbody tr th {\n",
       "        vertical-align: top;\n",
       "    }\n",
       "\n",
       "    .dataframe thead th {\n",
       "        text-align: right;\n",
       "    }\n",
       "</style>\n",
       "<table border=\"1\" class=\"dataframe\">\n",
       "  <thead>\n",
       "    <tr style=\"text-align: right;\">\n",
       "      <th></th>\n",
       "      <th>name</th>\n",
       "      <th>continent</th>\n",
       "      <th>population</th>\n",
       "    </tr>\n",
       "  </thead>\n",
       "  <tbody>\n",
       "    <tr>\n",
       "      <th>0</th>\n",
       "      <td>Andorra</td>\n",
       "      <td>EU</td>\n",
       "      <td>84000</td>\n",
       "    </tr>\n",
       "    <tr>\n",
       "      <th>1</th>\n",
       "      <td>United Arab Emirates</td>\n",
       "      <td>AS</td>\n",
       "      <td>4975593</td>\n",
       "    </tr>\n",
       "    <tr>\n",
       "      <th>2</th>\n",
       "      <td>Afghanistan</td>\n",
       "      <td>AS</td>\n",
       "      <td>29121286</td>\n",
       "    </tr>\n",
       "  </tbody>\n",
       "</table>\n",
       "</div>"
      ],
      "text/plain": [
       "                   name continent  population\n",
       "0               Andorra        EU       84000\n",
       "1  United Arab Emirates        AS     4975593\n",
       "2           Afghanistan        AS    29121286"
      ]
     },
     "execution_count": 7,
     "metadata": {},
     "output_type": "execute_result"
    }
   ],
   "source": [
    "countries_expression.execute()"
   ]
  },
  {
   "cell_type": "markdown",
   "id": "7a435349",
   "metadata": {},
   "source": [
    "We can build other types of expressions, for example, one that instead of returning a table, returns a columns."
   ]
  },
  {
   "cell_type": "code",
   "execution_count": 10,
   "id": "2ea9bac8",
   "metadata": {},
   "outputs": [
    {
     "data": {
      "text/plain": [
       "0       0.084000\n",
       "1       4.975593\n",
       "2      29.121286\n",
       "3       0.086754\n",
       "4       0.013254\n",
       "         ...    \n",
       "247    23.495361\n",
       "248     0.159042\n",
       "249    49.000000\n",
       "250    13.460305\n",
       "251    13.061000\n",
       "Name: population_in_millions, Length: 252, dtype: float64"
      ]
     },
     "execution_count": 10,
     "metadata": {},
     "output_type": "execute_result"
    }
   ],
   "source": [
    "population_in_millions = (countries['population'] / 1_000_000).name('population_in_millions')\n",
    "population_in_millions.execute()"
   ]
  },
  {
   "cell_type": "code",
   "execution_count": 11,
   "id": "73c45f53",
   "metadata": {},
   "outputs": [
    {
     "data": {
      "text/plain": [
       "ibis.expr.types.numeric.FloatingColumn"
      ]
     },
     "execution_count": 11,
     "metadata": {},
     "output_type": "execute_result"
    }
   ],
   "source": [
    "type(population_in_millions)"
   ]
  },
  {
   "cell_type": "markdown",
   "id": "3ec5cfb9",
   "metadata": {},
   "source": [
    "We can combine the previous expression to be a column of a table expression."
   ]
  },
  {
   "cell_type": "code",
   "execution_count": 13,
   "id": "6fd81ab4",
   "metadata": {},
   "outputs": [
    {
     "data": {
      "text/html": [
       "<div>\n",
       "<style scoped>\n",
       "    .dataframe tbody tr th:only-of-type {\n",
       "        vertical-align: middle;\n",
       "    }\n",
       "\n",
       "    .dataframe tbody tr th {\n",
       "        vertical-align: top;\n",
       "    }\n",
       "\n",
       "    .dataframe thead th {\n",
       "        text-align: right;\n",
       "    }\n",
       "</style>\n",
       "<table border=\"1\" class=\"dataframe\">\n",
       "  <thead>\n",
       "    <tr style=\"text-align: right;\">\n",
       "      <th></th>\n",
       "      <th>name</th>\n",
       "      <th>continent</th>\n",
       "      <th>population_in_millions</th>\n",
       "    </tr>\n",
       "  </thead>\n",
       "  <tbody>\n",
       "    <tr>\n",
       "      <th>0</th>\n",
       "      <td>Andorra</td>\n",
       "      <td>EU</td>\n",
       "      <td>0.084000</td>\n",
       "    </tr>\n",
       "    <tr>\n",
       "      <th>1</th>\n",
       "      <td>United Arab Emirates</td>\n",
       "      <td>AS</td>\n",
       "      <td>4.975593</td>\n",
       "    </tr>\n",
       "    <tr>\n",
       "      <th>2</th>\n",
       "      <td>Afghanistan</td>\n",
       "      <td>AS</td>\n",
       "      <td>29.121286</td>\n",
       "    </tr>\n",
       "  </tbody>\n",
       "</table>\n",
       "</div>"
      ],
      "text/plain": [
       "                   name continent  population_in_millions\n",
       "0               Andorra        EU                0.084000\n",
       "1  United Arab Emirates        AS                4.975593\n",
       "2           Afghanistan        AS               29.121286"
      ]
     },
     "execution_count": 13,
     "metadata": {},
     "output_type": "execute_result"
    }
   ],
   "source": [
    "countries['name', 'continent', population_in_millions].limit(3)"
   ]
  },
  {
   "cell_type": "markdown",
   "id": "7b7260ea",
   "metadata": {},
   "source": [
    "Since we are in lazy mode (not interactive), those expressions don't request any data from the database unless explicitly requested with .execute()."
   ]
  },
  {
   "cell_type": "code",
   "execution_count": 14,
   "id": "50b5d82c",
   "metadata": {},
   "outputs": [
    {
     "data": {
      "text/html": [
       "<div>\n",
       "<style scoped>\n",
       "    .dataframe tbody tr th:only-of-type {\n",
       "        vertical-align: middle;\n",
       "    }\n",
       "\n",
       "    .dataframe tbody tr th {\n",
       "        vertical-align: top;\n",
       "    }\n",
       "\n",
       "    .dataframe thead th {\n",
       "        text-align: right;\n",
       "    }\n",
       "</style>\n",
       "<table border=\"1\" class=\"dataframe\">\n",
       "  <thead>\n",
       "    <tr style=\"text-align: right;\">\n",
       "      <th></th>\n",
       "      <th>name</th>\n",
       "      <th>continent</th>\n",
       "      <th>population_in_millions</th>\n",
       "    </tr>\n",
       "  </thead>\n",
       "  <tbody>\n",
       "    <tr>\n",
       "      <th>0</th>\n",
       "      <td>Andorra</td>\n",
       "      <td>EU</td>\n",
       "      <td>0.084000</td>\n",
       "    </tr>\n",
       "    <tr>\n",
       "      <th>1</th>\n",
       "      <td>United Arab Emirates</td>\n",
       "      <td>AS</td>\n",
       "      <td>4.975593</td>\n",
       "    </tr>\n",
       "    <tr>\n",
       "      <th>2</th>\n",
       "      <td>Afghanistan</td>\n",
       "      <td>AS</td>\n",
       "      <td>29.121286</td>\n",
       "    </tr>\n",
       "  </tbody>\n",
       "</table>\n",
       "</div>"
      ],
      "text/plain": [
       "                   name continent  population_in_millions\n",
       "0               Andorra        EU                0.084000\n",
       "1  United Arab Emirates        AS                4.975593\n",
       "2           Afghanistan        AS               29.121286"
      ]
     },
     "execution_count": 14,
     "metadata": {},
     "output_type": "execute_result"
    }
   ],
   "source": [
    "countries['name', 'continent', population_in_millions].limit(3).execute()"
   ]
  },
  {
   "cell_type": "code",
   "execution_count": 15,
   "id": "0fa2ab41",
   "metadata": {},
   "outputs": [
    {
     "name": "stdout",
     "output_type": "stream",
     "text": [
      "SELECT t0.name, t0.continent, t0.population / CAST(? AS REAL) AS population_in_millions \n",
      "FROM main.countries AS t0\n",
      " LIMIT ? OFFSET ?\n"
     ]
    },
    {
     "data": {
      "text/html": [
       "<div>\n",
       "<style scoped>\n",
       "    .dataframe tbody tr th:only-of-type {\n",
       "        vertical-align: middle;\n",
       "    }\n",
       "\n",
       "    .dataframe tbody tr th {\n",
       "        vertical-align: top;\n",
       "    }\n",
       "\n",
       "    .dataframe thead th {\n",
       "        text-align: right;\n",
       "    }\n",
       "</style>\n",
       "<table border=\"1\" class=\"dataframe\">\n",
       "  <thead>\n",
       "    <tr style=\"text-align: right;\">\n",
       "      <th></th>\n",
       "      <th>name</th>\n",
       "      <th>continent</th>\n",
       "      <th>population_in_millions</th>\n",
       "    </tr>\n",
       "  </thead>\n",
       "  <tbody>\n",
       "    <tr>\n",
       "      <th>0</th>\n",
       "      <td>Andorra</td>\n",
       "      <td>EU</td>\n",
       "      <td>0.084000</td>\n",
       "    </tr>\n",
       "    <tr>\n",
       "      <th>1</th>\n",
       "      <td>United Arab Emirates</td>\n",
       "      <td>AS</td>\n",
       "      <td>4.975593</td>\n",
       "    </tr>\n",
       "    <tr>\n",
       "      <th>2</th>\n",
       "      <td>Afghanistan</td>\n",
       "      <td>AS</td>\n",
       "      <td>29.121286</td>\n",
       "    </tr>\n",
       "  </tbody>\n",
       "</table>\n",
       "</div>"
      ],
      "text/plain": [
       "                   name continent  population_in_millions\n",
       "0               Andorra        EU                0.084000\n",
       "1  United Arab Emirates        AS                4.975593\n",
       "2           Afghanistan        AS               29.121286"
      ]
     },
     "execution_count": 15,
     "metadata": {},
     "output_type": "execute_result"
    }
   ],
   "source": [
    "ibis.options.verbose = True\n",
    "\n",
    "countries['name', 'continent', population_in_millions].limit(3).execute()"
   ]
  },
  {
   "cell_type": "markdown",
   "id": "34a249f3",
   "metadata": {},
   "source": [
    "By default, the logging is done to the terminal, but we can process the query with a custom function. This allows us to save executed queries to a file, save to a database, send them to a web service, etc.\n",
    "\n",
    "For example, to save queries to a file, we can write a custom function that given a query, saves it to a log file."
   ]
  },
  {
   "cell_type": "code",
   "execution_count": 25,
   "id": "67f15dc8",
   "metadata": {},
   "outputs": [],
   "source": [
    "import os\n",
    "import datetime\n",
    "import tempfile\n",
    "from pathlib import Path\n",
    "\n",
    "\n",
    "def log_query_to_file(query: str) -> None:\n",
    "    \"\"\"\n",
    "    Log queries to `data/tutorial_queries.log`.\n",
    "    \n",
    "    Each file is a query. Line breaks in the query are \n",
    "    represented with the string '\\n'.\n",
    "    \n",
    "    A timestamp of when the query is executed is added.\n",
    "    \"\"\"\n",
    "    dirname = Path('logs')\n",
    "    fname = dirname / 'tutorial_queries.log'\n",
    "    query_in_a_single_line = query.replace('\\n', r'\\n')\n",
    "    with fname.open(mode='a') as f:\n",
    "        f.write(f'{query_in_a_single_line}\\n')"
   ]
  },
  {
   "cell_type": "code",
   "execution_count": 26,
   "id": "d4620d94",
   "metadata": {},
   "outputs": [
    {
     "data": {
      "text/html": [
       "<div>\n",
       "<style scoped>\n",
       "    .dataframe tbody tr th:only-of-type {\n",
       "        vertical-align: middle;\n",
       "    }\n",
       "\n",
       "    .dataframe tbody tr th {\n",
       "        vertical-align: top;\n",
       "    }\n",
       "\n",
       "    .dataframe thead th {\n",
       "        text-align: right;\n",
       "    }\n",
       "</style>\n",
       "<table border=\"1\" class=\"dataframe\">\n",
       "  <thead>\n",
       "    <tr style=\"text-align: right;\">\n",
       "      <th></th>\n",
       "      <th>name</th>\n",
       "      <th>continent</th>\n",
       "      <th>population_in_millions</th>\n",
       "    </tr>\n",
       "  </thead>\n",
       "  <tbody>\n",
       "    <tr>\n",
       "      <th>0</th>\n",
       "      <td>Andorra</td>\n",
       "      <td>EU</td>\n",
       "      <td>0.084000</td>\n",
       "    </tr>\n",
       "    <tr>\n",
       "      <th>1</th>\n",
       "      <td>United Arab Emirates</td>\n",
       "      <td>AS</td>\n",
       "      <td>4.975593</td>\n",
       "    </tr>\n",
       "    <tr>\n",
       "      <th>2</th>\n",
       "      <td>Afghanistan</td>\n",
       "      <td>AS</td>\n",
       "      <td>29.121286</td>\n",
       "    </tr>\n",
       "  </tbody>\n",
       "</table>\n",
       "</div>"
      ],
      "text/plain": [
       "                   name continent  population_in_millions\n",
       "0               Andorra        EU                0.084000\n",
       "1  United Arab Emirates        AS                4.975593\n",
       "2           Afghanistan        AS               29.121286"
      ]
     },
     "execution_count": 26,
     "metadata": {},
     "output_type": "execute_result"
    }
   ],
   "source": [
    "import time\n",
    "\n",
    "ibis.options.verbose_log = log_query_to_file\n",
    "\n",
    "countries.execute()\n",
    "time.sleep(1.)\n",
    "countries['name', 'continent', population_in_millions].limit(3).execute()"
   ]
  },
  {
   "cell_type": "code",
   "execution_count": 28,
   "id": "d5d64e1d",
   "metadata": {},
   "outputs": [
    {
     "name": "stdout",
     "output_type": "stream",
     "text": [
      "     1\tSELECT t0.iso_alpha2, t0.iso_alpha3, t0.iso_numeric, t0.fips, t0.name, t0.capital, t0.area_km2, t0.population, t0.continent \\nFROM main.countries AS t0\\n LIMIT ? OFFSET ?\r\n",
      "     2\tSELECT t0.name, t0.continent, t0.population / CAST(? AS REAL) AS population_in_millions \\nFROM main.countries AS t0\\n LIMIT ? OFFSET ?\r\n"
     ]
    }
   ],
   "source": [
    "!cat -n logs/tutorial_queries.log"
   ]
  },
  {
   "cell_type": "code",
   "execution_count": null,
   "id": "e245088a",
   "metadata": {},
   "outputs": [],
   "source": []
  }
 ],
 "metadata": {
  "kernelspec": {
   "display_name": "Python 3 (ipykernel)",
   "language": "python",
   "name": "python3"
  },
  "language_info": {
   "codemirror_mode": {
    "name": "ipython",
    "version": 3
   },
   "file_extension": ".py",
   "mimetype": "text/x-python",
   "name": "python",
   "nbconvert_exporter": "python",
   "pygments_lexer": "ipython3",
   "version": "3.10.5"
  }
 },
 "nbformat": 4,
 "nbformat_minor": 5
}
